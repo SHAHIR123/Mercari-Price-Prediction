{
  "cells": [
    {
      "metadata": {
        "_uuid": "fc6721d6d9ae5b0b711a10d38ebedfb79e5dfd02"
      },
      "cell_type": "markdown",
      "source": "# Mercari Price Suggestion Challenge\n\n## Neural Network Model using keras\n\n**This project was run on Kaggle competition** (https://www.kaggle.com/c/mercari-price-suggestion-challenge)\n\nIn this competition, Mercari(Japan’s biggest community-powered shopping app) challenging you to build an algorithm that automatically suggests the right product prices. You’ll be provided user-inputted text descriptions of their products, including details like product category name, brand name, and item condition.\n\n\nProduct pricing gets even harder at scale, considering just how many products are sold online. Clothing has strong seasonal pricing trends and is heavily influenced by brand names, while electronics have fluctuating prices based on product specs.\n\n**Acknowledgement**\n\nThis kernal influenced by excellent kernal from [noobhound](https://www.kaggle.com/knowledgegrappler/a-simple-nn-solution-with-keras-0-48611-pl)."
    },
    {
      "metadata": {
        "_cell_guid": "f49a0842-1c3d-4bee-8b3e-3caf6111bb60",
        "_uuid": "e4561cb64722ffd7adb74a8800f89973bc3fe87a",
        "trusted": true
      },
      "cell_type": "code",
      "source": "# This Python 3 environment comes with many helpful analytics libraries installed\n# It is defined by the kaggle/python docker image: https://github.com/kaggle/docker-python\n# For example, here's several helpful packages to load in \n\nimport numpy as np # linear algebra\nimport pandas as pd # data processing, CSV file I/O (e.g. pd.read_csv)\nfrom sklearn.preprocessing import LabelEncoder, MinMaxScaler, StandardScaler\nfrom sklearn.cross_validation import train_test_split\n\nimport matplotlib.pyplot as plt\n%matplotlib inline \n\nimport math\n\n# Input data files are available in the \"../input/\" directory.\n# For example, running this (by clicking run or pressing Shift+Enter) will list the files in the input directory\n\nimport os\nprint(os.listdir(\"../input\"))\n\n# Any results you write to the current directory are saved as output.\n\n\n\n\n",
      "execution_count": 1,
      "outputs": [
        {
          "name": "stdout",
          "output_type": "stream",
          "text": "['test_stg2.tsv', 'train.tsv', 'test.tsv', 'sample_submission_stg2.csv', 'sample_submission.csv']\n"
        },
        {
          "name": "stderr",
          "output_type": "stream",
          "text": "/opt/conda/lib/python3.6/site-packages/sklearn/cross_validation.py:41: DeprecationWarning: This module was deprecated in version 0.18 in favor of the model_selection module into which all the refactored classes and functions are moved. Also note that the interface of the new CV iterators are different from that of this module. This module will be removed in 0.20.\n  \"This module will be removed in 0.20.\", DeprecationWarning)\n"
        }
      ]
    },
    {
      "metadata": {
        "_cell_guid": "17b85633-4dae-4a49-9573-5d5c3b1b9699",
        "_uuid": "56874f4a359241631a1f1e4788da09e7b09182b8",
        "collapsed": true,
        "trusted": true
      },
      "cell_type": "code",
      "source": "def rmsle(y, y_pred):\n    assert len(y) == len(y_pred)\n    to_sum = [(math.log(y_pred[i] + 1) - math.log(y[i] + 1)) ** 2.0 for i,pred in enumerate(y_pred)]\n    return (sum(to_sum) * (1.0/len(y))) ** 0.5\n#Source: https://www.kaggle.com/marknagelberg/rmsle-function",
      "execution_count": 2,
      "outputs": []
    },
    {
      "metadata": {
        "_cell_guid": "a76efe2c-34bb-458a-8611-1dcabda65b31",
        "_uuid": "80cd3abaf2d32b2c8133719d9a7bbb977adf91cb",
        "trusted": true
      },
      "cell_type": "code",
      "source": "#LOAD DATA\nprint(\"Loading data...\")\ntrain = pd.read_table(\"../input/train.tsv\")\ntest = pd.read_table(\"../input/test.tsv\")\nprint(train.shape)\nprint(test.shape)",
      "execution_count": 3,
      "outputs": [
        {
          "name": "stdout",
          "output_type": "stream",
          "text": "Loading data...\n(1482535, 8)\n(693359, 7)\n"
        }
      ]
    },
    {
      "metadata": {
        "trusted": true,
        "_uuid": "73932ac41d4cae0280634b6c5f1a29336a71fd84"
      },
      "cell_type": "code",
      "source": "train.info()",
      "execution_count": 4,
      "outputs": [
        {
          "name": "stdout",
          "output_type": "stream",
          "text": "<class 'pandas.core.frame.DataFrame'>\nRangeIndex: 1482535 entries, 0 to 1482534\nData columns (total 8 columns):\ntrain_id             1482535 non-null int64\nname                 1482535 non-null object\nitem_condition_id    1482535 non-null int64\ncategory_name        1476208 non-null object\nbrand_name           849853 non-null object\nprice                1482535 non-null float64\nshipping             1482535 non-null int64\nitem_description     1482531 non-null object\ndtypes: float64(1), int64(3), object(4)\nmemory usage: 90.5+ MB\n"
        }
      ]
    },
    {
      "metadata": {
        "trusted": true,
        "_uuid": "0f34b382de46c93443fb3435f669da511afa37eb"
      },
      "cell_type": "code",
      "source": "test.info()",
      "execution_count": 5,
      "outputs": [
        {
          "name": "stdout",
          "output_type": "stream",
          "text": "<class 'pandas.core.frame.DataFrame'>\nRangeIndex: 693359 entries, 0 to 693358\nData columns (total 7 columns):\ntest_id              693359 non-null int64\nname                 693359 non-null object\nitem_condition_id    693359 non-null int64\ncategory_name        690301 non-null object\nbrand_name           397834 non-null object\nshipping             693359 non-null int64\nitem_description     693359 non-null object\ndtypes: int64(3), object(4)\nmemory usage: 37.0+ MB\n"
        }
      ]
    },
    {
      "metadata": {
        "trusted": true,
        "_uuid": "219fec60c92115b6d128468ff7a6bae08376c1f2"
      },
      "cell_type": "code",
      "source": "train.head()",
      "execution_count": 6,
      "outputs": [
        {
          "data": {
            "text/html": "<div>\n<style>\n    .dataframe thead tr:only-child th {\n        text-align: right;\n    }\n\n    .dataframe thead th {\n        text-align: left;\n    }\n\n    .dataframe tbody tr th {\n        vertical-align: top;\n    }\n</style>\n<table border=\"1\" class=\"dataframe\">\n  <thead>\n    <tr style=\"text-align: right;\">\n      <th></th>\n      <th>train_id</th>\n      <th>name</th>\n      <th>item_condition_id</th>\n      <th>category_name</th>\n      <th>brand_name</th>\n      <th>price</th>\n      <th>shipping</th>\n      <th>item_description</th>\n    </tr>\n  </thead>\n  <tbody>\n    <tr>\n      <th>0</th>\n      <td>0</td>\n      <td>MLB Cincinnati Reds T Shirt Size XL</td>\n      <td>3</td>\n      <td>Men/Tops/T-shirts</td>\n      <td>NaN</td>\n      <td>10.0</td>\n      <td>1</td>\n      <td>No description yet</td>\n    </tr>\n    <tr>\n      <th>1</th>\n      <td>1</td>\n      <td>Razer BlackWidow Chroma Keyboard</td>\n      <td>3</td>\n      <td>Electronics/Computers &amp; Tablets/Components &amp; P...</td>\n      <td>Razer</td>\n      <td>52.0</td>\n      <td>0</td>\n      <td>This keyboard is in great condition and works ...</td>\n    </tr>\n    <tr>\n      <th>2</th>\n      <td>2</td>\n      <td>AVA-VIV Blouse</td>\n      <td>1</td>\n      <td>Women/Tops &amp; Blouses/Blouse</td>\n      <td>Target</td>\n      <td>10.0</td>\n      <td>1</td>\n      <td>Adorable top with a hint of lace and a key hol...</td>\n    </tr>\n    <tr>\n      <th>3</th>\n      <td>3</td>\n      <td>Leather Horse Statues</td>\n      <td>1</td>\n      <td>Home/Home Décor/Home Décor Accents</td>\n      <td>NaN</td>\n      <td>35.0</td>\n      <td>1</td>\n      <td>New with tags. Leather horses. Retail for [rm]...</td>\n    </tr>\n    <tr>\n      <th>4</th>\n      <td>4</td>\n      <td>24K GOLD plated rose</td>\n      <td>1</td>\n      <td>Women/Jewelry/Necklaces</td>\n      <td>NaN</td>\n      <td>44.0</td>\n      <td>0</td>\n      <td>Complete with certificate of authenticity</td>\n    </tr>\n  </tbody>\n</table>\n</div>",
            "text/plain": "   train_id                                 name  item_condition_id  \\\n0         0  MLB Cincinnati Reds T Shirt Size XL                  3   \n1         1     Razer BlackWidow Chroma Keyboard                  3   \n2         2                       AVA-VIV Blouse                  1   \n3         3                Leather Horse Statues                  1   \n4         4                 24K GOLD plated rose                  1   \n\n                                       category_name brand_name  price  \\\n0                                  Men/Tops/T-shirts        NaN   10.0   \n1  Electronics/Computers & Tablets/Components & P...      Razer   52.0   \n2                        Women/Tops & Blouses/Blouse     Target   10.0   \n3                 Home/Home Décor/Home Décor Accents        NaN   35.0   \n4                            Women/Jewelry/Necklaces        NaN   44.0   \n\n   shipping                                   item_description  \n0         1                                 No description yet  \n1         0  This keyboard is in great condition and works ...  \n2         1  Adorable top with a hint of lace and a key hol...  \n3         1  New with tags. Leather horses. Retail for [rm]...  \n4         0          Complete with certificate of authenticity  "
          },
          "execution_count": 6,
          "metadata": {},
          "output_type": "execute_result"
        }
      ]
    },
    {
      "metadata": {
        "trusted": true,
        "_uuid": "de44f8842bfa210e1030d5837e5ba31f12672432"
      },
      "cell_type": "code",
      "source": "train.describe(include='all').T",
      "execution_count": 7,
      "outputs": [
        {
          "data": {
            "text/html": "<div>\n<style>\n    .dataframe thead tr:only-child th {\n        text-align: right;\n    }\n\n    .dataframe thead th {\n        text-align: left;\n    }\n\n    .dataframe tbody tr th {\n        vertical-align: top;\n    }\n</style>\n<table border=\"1\" class=\"dataframe\">\n  <thead>\n    <tr style=\"text-align: right;\">\n      <th></th>\n      <th>count</th>\n      <th>unique</th>\n      <th>top</th>\n      <th>freq</th>\n      <th>mean</th>\n      <th>std</th>\n      <th>min</th>\n      <th>25%</th>\n      <th>50%</th>\n      <th>75%</th>\n      <th>max</th>\n    </tr>\n  </thead>\n  <tbody>\n    <tr>\n      <th>train_id</th>\n      <td>1.48254e+06</td>\n      <td>NaN</td>\n      <td>NaN</td>\n      <td>NaN</td>\n      <td>741267</td>\n      <td>427971</td>\n      <td>0</td>\n      <td>370634</td>\n      <td>741267</td>\n      <td>1.1119e+06</td>\n      <td>1.48253e+06</td>\n    </tr>\n    <tr>\n      <th>name</th>\n      <td>1482535</td>\n      <td>1225273</td>\n      <td>Bundle</td>\n      <td>2232</td>\n      <td>NaN</td>\n      <td>NaN</td>\n      <td>NaN</td>\n      <td>NaN</td>\n      <td>NaN</td>\n      <td>NaN</td>\n      <td>NaN</td>\n    </tr>\n    <tr>\n      <th>item_condition_id</th>\n      <td>1.48254e+06</td>\n      <td>NaN</td>\n      <td>NaN</td>\n      <td>NaN</td>\n      <td>1.90738</td>\n      <td>0.903159</td>\n      <td>1</td>\n      <td>1</td>\n      <td>2</td>\n      <td>3</td>\n      <td>5</td>\n    </tr>\n    <tr>\n      <th>category_name</th>\n      <td>1476208</td>\n      <td>1287</td>\n      <td>Women/Athletic Apparel/Pants, Tights, Leggings</td>\n      <td>60177</td>\n      <td>NaN</td>\n      <td>NaN</td>\n      <td>NaN</td>\n      <td>NaN</td>\n      <td>NaN</td>\n      <td>NaN</td>\n      <td>NaN</td>\n    </tr>\n    <tr>\n      <th>brand_name</th>\n      <td>849853</td>\n      <td>4809</td>\n      <td>PINK</td>\n      <td>54088</td>\n      <td>NaN</td>\n      <td>NaN</td>\n      <td>NaN</td>\n      <td>NaN</td>\n      <td>NaN</td>\n      <td>NaN</td>\n      <td>NaN</td>\n    </tr>\n    <tr>\n      <th>price</th>\n      <td>1.48254e+06</td>\n      <td>NaN</td>\n      <td>NaN</td>\n      <td>NaN</td>\n      <td>26.7375</td>\n      <td>38.5861</td>\n      <td>0</td>\n      <td>10</td>\n      <td>17</td>\n      <td>29</td>\n      <td>2009</td>\n    </tr>\n    <tr>\n      <th>shipping</th>\n      <td>1.48254e+06</td>\n      <td>NaN</td>\n      <td>NaN</td>\n      <td>NaN</td>\n      <td>0.447274</td>\n      <td>0.497212</td>\n      <td>0</td>\n      <td>0</td>\n      <td>0</td>\n      <td>1</td>\n      <td>1</td>\n    </tr>\n    <tr>\n      <th>item_description</th>\n      <td>1482531</td>\n      <td>1281426</td>\n      <td>No description yet</td>\n      <td>82489</td>\n      <td>NaN</td>\n      <td>NaN</td>\n      <td>NaN</td>\n      <td>NaN</td>\n      <td>NaN</td>\n      <td>NaN</td>\n      <td>NaN</td>\n    </tr>\n  </tbody>\n</table>\n</div>",
            "text/plain": "                         count   unique  \\\ntrain_id           1.48254e+06      NaN   \nname                   1482535  1225273   \nitem_condition_id  1.48254e+06      NaN   \ncategory_name          1476208     1287   \nbrand_name              849853     4809   \nprice              1.48254e+06      NaN   \nshipping           1.48254e+06      NaN   \nitem_description       1482531  1281426   \n\n                                                              top   freq  \\\ntrain_id                                                      NaN    NaN   \nname                                                       Bundle   2232   \nitem_condition_id                                             NaN    NaN   \ncategory_name      Women/Athletic Apparel/Pants, Tights, Leggings  60177   \nbrand_name                                                   PINK  54088   \nprice                                                         NaN    NaN   \nshipping                                                      NaN    NaN   \nitem_description                               No description yet  82489   \n\n                       mean       std  min     25%     50%         75%  \\\ntrain_id             741267    427971    0  370634  741267  1.1119e+06   \nname                    NaN       NaN  NaN     NaN     NaN         NaN   \nitem_condition_id   1.90738  0.903159    1       1       2           3   \ncategory_name           NaN       NaN  NaN     NaN     NaN         NaN   \nbrand_name              NaN       NaN  NaN     NaN     NaN         NaN   \nprice               26.7375   38.5861    0      10      17          29   \nshipping           0.447274  0.497212    0       0       0           1   \nitem_description        NaN       NaN  NaN     NaN     NaN         NaN   \n\n                           max  \ntrain_id           1.48253e+06  \nname                       NaN  \nitem_condition_id            5  \ncategory_name              NaN  \nbrand_name                 NaN  \nprice                     2009  \nshipping                     1  \nitem_description           NaN  "
          },
          "execution_count": 7,
          "metadata": {},
          "output_type": "execute_result"
        }
      ]
    },
    {
      "metadata": {
        "trusted": true,
        "_uuid": "a3bf39ad05a682e6b141de360cf7efc402171897"
      },
      "cell_type": "code",
      "source": "train.isnull().sum()",
      "execution_count": 8,
      "outputs": [
        {
          "data": {
            "text/plain": "train_id                  0\nname                      0\nitem_condition_id         0\ncategory_name          6327\nbrand_name           632682\nprice                     0\nshipping                  0\nitem_description          4\ndtype: int64"
          },
          "execution_count": 8,
          "metadata": {},
          "output_type": "execute_result"
        }
      ]
    },
    {
      "metadata": {
        "_cell_guid": "4e506bee-5541-4879-aaea-159dee4416b8",
        "_uuid": "967a5f2b26862be11cdae8cb0fb7402fd486135c",
        "trusted": true
      },
      "cell_type": "code",
      "source": "#HANDLE MISSING VALUES\nprint(\"Handling missing values...\")\ndef handle_missing(dataset):\n    dataset.category_name.fillna(value=\"missing\", inplace=True)\n    dataset.brand_name.fillna(value=\"missing\", inplace=True)\n    dataset.item_description.fillna(value=\"missing\", inplace=True)\n    return (dataset)\n\ntrain = handle_missing(train)\ntest = handle_missing(test)\nprint(train.shape)\nprint(test.shape)",
      "execution_count": 9,
      "outputs": [
        {
          "name": "stdout",
          "output_type": "stream",
          "text": "Handling missing values...\n(1482535, 8)\n(693359, 7)\n"
        }
      ]
    },
    {
      "metadata": {
        "_cell_guid": "39007c90-161e-4ef0-b0a5-fc16f04665b4",
        "_uuid": "1aa305c5227f3a4d6b5a5bdf6aa55fe55cf46548",
        "trusted": true
      },
      "cell_type": "code",
      "source": "train.head(3)",
      "execution_count": 10,
      "outputs": [
        {
          "data": {
            "text/html": "<div>\n<style>\n    .dataframe thead tr:only-child th {\n        text-align: right;\n    }\n\n    .dataframe thead th {\n        text-align: left;\n    }\n\n    .dataframe tbody tr th {\n        vertical-align: top;\n    }\n</style>\n<table border=\"1\" class=\"dataframe\">\n  <thead>\n    <tr style=\"text-align: right;\">\n      <th></th>\n      <th>train_id</th>\n      <th>name</th>\n      <th>item_condition_id</th>\n      <th>category_name</th>\n      <th>brand_name</th>\n      <th>price</th>\n      <th>shipping</th>\n      <th>item_description</th>\n    </tr>\n  </thead>\n  <tbody>\n    <tr>\n      <th>0</th>\n      <td>0</td>\n      <td>MLB Cincinnati Reds T Shirt Size XL</td>\n      <td>3</td>\n      <td>Men/Tops/T-shirts</td>\n      <td>missing</td>\n      <td>10.0</td>\n      <td>1</td>\n      <td>No description yet</td>\n    </tr>\n    <tr>\n      <th>1</th>\n      <td>1</td>\n      <td>Razer BlackWidow Chroma Keyboard</td>\n      <td>3</td>\n      <td>Electronics/Computers &amp; Tablets/Components &amp; P...</td>\n      <td>Razer</td>\n      <td>52.0</td>\n      <td>0</td>\n      <td>This keyboard is in great condition and works ...</td>\n    </tr>\n    <tr>\n      <th>2</th>\n      <td>2</td>\n      <td>AVA-VIV Blouse</td>\n      <td>1</td>\n      <td>Women/Tops &amp; Blouses/Blouse</td>\n      <td>Target</td>\n      <td>10.0</td>\n      <td>1</td>\n      <td>Adorable top with a hint of lace and a key hol...</td>\n    </tr>\n  </tbody>\n</table>\n</div>",
            "text/plain": "   train_id                                 name  item_condition_id  \\\n0         0  MLB Cincinnati Reds T Shirt Size XL                  3   \n1         1     Razer BlackWidow Chroma Keyboard                  3   \n2         2                       AVA-VIV Blouse                  1   \n\n                                       category_name brand_name  price  \\\n0                                  Men/Tops/T-shirts    missing   10.0   \n1  Electronics/Computers & Tablets/Components & P...      Razer   52.0   \n2                        Women/Tops & Blouses/Blouse     Target   10.0   \n\n   shipping                                   item_description  \n0         1                                 No description yet  \n1         0  This keyboard is in great condition and works ...  \n2         1  Adorable top with a hint of lace and a key hol...  "
          },
          "execution_count": 10,
          "metadata": {},
          "output_type": "execute_result"
        }
      ]
    },
    {
      "metadata": {
        "_cell_guid": "204de9ca-7ea5-481b-9039-743bbab1084f",
        "_uuid": "cf9985161bcd94612b1359177e23124efd3410cb",
        "trusted": true
      },
      "cell_type": "code",
      "source": "#PROCESS CATEGORICAL DATA\nprint(\"Handling categorical variables...\")\nle = LabelEncoder()\n\nle.fit(np.hstack([train.category_name, test.category_name]))\ntrain.category_name = le.transform(train.category_name)\ntest.category_name = le.transform(test.category_name)\n\nle.fit(np.hstack([train.brand_name, test.brand_name]))\ntrain.brand_name = le.transform(train.brand_name)\ntest.brand_name = le.transform(test.brand_name)\ndel le\n\ntrain.head(3)\n",
      "execution_count": 11,
      "outputs": [
        {
          "name": "stdout",
          "output_type": "stream",
          "text": "Handling categorical variables...\n"
        },
        {
          "data": {
            "text/html": "<div>\n<style>\n    .dataframe thead tr:only-child th {\n        text-align: right;\n    }\n\n    .dataframe thead th {\n        text-align: left;\n    }\n\n    .dataframe tbody tr th {\n        vertical-align: top;\n    }\n</style>\n<table border=\"1\" class=\"dataframe\">\n  <thead>\n    <tr style=\"text-align: right;\">\n      <th></th>\n      <th>train_id</th>\n      <th>name</th>\n      <th>item_condition_id</th>\n      <th>category_name</th>\n      <th>brand_name</th>\n      <th>price</th>\n      <th>shipping</th>\n      <th>item_description</th>\n    </tr>\n  </thead>\n  <tbody>\n    <tr>\n      <th>0</th>\n      <td>0</td>\n      <td>MLB Cincinnati Reds T Shirt Size XL</td>\n      <td>3</td>\n      <td>829</td>\n      <td>5265</td>\n      <td>10.0</td>\n      <td>1</td>\n      <td>No description yet</td>\n    </tr>\n    <tr>\n      <th>1</th>\n      <td>1</td>\n      <td>Razer BlackWidow Chroma Keyboard</td>\n      <td>3</td>\n      <td>86</td>\n      <td>3889</td>\n      <td>52.0</td>\n      <td>0</td>\n      <td>This keyboard is in great condition and works ...</td>\n    </tr>\n    <tr>\n      <th>2</th>\n      <td>2</td>\n      <td>AVA-VIV Blouse</td>\n      <td>1</td>\n      <td>1277</td>\n      <td>4588</td>\n      <td>10.0</td>\n      <td>1</td>\n      <td>Adorable top with a hint of lace and a key hol...</td>\n    </tr>\n  </tbody>\n</table>\n</div>",
            "text/plain": "   train_id                                 name  item_condition_id  \\\n0         0  MLB Cincinnati Reds T Shirt Size XL                  3   \n1         1     Razer BlackWidow Chroma Keyboard                  3   \n2         2                       AVA-VIV Blouse                  1   \n\n   category_name  brand_name  price  shipping  \\\n0            829        5265   10.0         1   \n1             86        3889   52.0         0   \n2           1277        4588   10.0         1   \n\n                                    item_description  \n0                                 No description yet  \n1  This keyboard is in great condition and works ...  \n2  Adorable top with a hint of lace and a key hol...  "
          },
          "execution_count": 11,
          "metadata": {},
          "output_type": "execute_result"
        }
      ]
    },
    {
      "metadata": {
        "_cell_guid": "b122ac7a-c203-463f-aa92-b843b039fce3",
        "_uuid": "ff62bf6d3681b84510026bfa3514963513f2e8f2",
        "trusted": true
      },
      "cell_type": "code",
      "source": "#PROCESS TEXT: RAW\nprint(\"Text to seq process...\")\nfrom keras.preprocessing.text import Tokenizer\nraw_text = np.hstack([train.item_description.str.lower(), train.name.str.lower()])\n\nprint(\"   Fitting tokenizer...\")\ntok_raw = Tokenizer()\ntok_raw.fit_on_texts(raw_text)\nprint(\"   Transforming text to seq...\")\n\ntrain[\"seq_item_description\"] = tok_raw.texts_to_sequences(train.item_description.str.lower())\ntest[\"seq_item_description\"] = tok_raw.texts_to_sequences(test.item_description.str.lower())\ntrain[\"seq_name\"] = tok_raw.texts_to_sequences(train.name.str.lower())\ntest[\"seq_name\"] = tok_raw.texts_to_sequences(test.name.str.lower())\ntrain.head(3)",
      "execution_count": 12,
      "outputs": [
        {
          "name": "stdout",
          "output_type": "stream",
          "text": "Text to seq process...\n"
        },
        {
          "name": "stderr",
          "output_type": "stream",
          "text": "Using TensorFlow backend.\n"
        },
        {
          "name": "stdout",
          "output_type": "stream",
          "text": "   Fitting tokenizer...\n   Transforming text to seq...\n"
        },
        {
          "data": {
            "text/html": "<div>\n<style>\n    .dataframe thead tr:only-child th {\n        text-align: right;\n    }\n\n    .dataframe thead th {\n        text-align: left;\n    }\n\n    .dataframe tbody tr th {\n        vertical-align: top;\n    }\n</style>\n<table border=\"1\" class=\"dataframe\">\n  <thead>\n    <tr style=\"text-align: right;\">\n      <th></th>\n      <th>train_id</th>\n      <th>name</th>\n      <th>item_condition_id</th>\n      <th>category_name</th>\n      <th>brand_name</th>\n      <th>price</th>\n      <th>shipping</th>\n      <th>item_description</th>\n      <th>seq_item_description</th>\n      <th>seq_name</th>\n    </tr>\n  </thead>\n  <tbody>\n    <tr>\n      <th>0</th>\n      <td>0</td>\n      <td>MLB Cincinnati Reds T Shirt Size XL</td>\n      <td>3</td>\n      <td>829</td>\n      <td>5265</td>\n      <td>10.0</td>\n      <td>1</td>\n      <td>No description yet</td>\n      <td>[12, 68, 79]</td>\n      <td>[3852, 8823, 6896, 208, 84, 6, 155]</td>\n    </tr>\n    <tr>\n      <th>1</th>\n      <td>1</td>\n      <td>Razer BlackWidow Chroma Keyboard</td>\n      <td>3</td>\n      <td>86</td>\n      <td>3889</td>\n      <td>52.0</td>\n      <td>0</td>\n      <td>This keyboard is in great condition and works ...</td>\n      <td>[29, 2627, 10, 7, 39, 17, 1, 207, 51, 19, 1113...</td>\n      <td>[10760, 25565, 16369, 2627]</td>\n    </tr>\n    <tr>\n      <th>2</th>\n      <td>2</td>\n      <td>AVA-VIV Blouse</td>\n      <td>1</td>\n      <td>1277</td>\n      <td>4588</td>\n      <td>10.0</td>\n      <td>1</td>\n      <td>Adorable top with a hint of lace and a key hol...</td>\n      <td>[604, 60, 9, 4, 5347, 11, 192, 1, 4, 886, 1290...</td>\n      <td>[7634, 10563, 666]</td>\n    </tr>\n  </tbody>\n</table>\n</div>",
            "text/plain": "   train_id                                 name  item_condition_id  \\\n0         0  MLB Cincinnati Reds T Shirt Size XL                  3   \n1         1     Razer BlackWidow Chroma Keyboard                  3   \n2         2                       AVA-VIV Blouse                  1   \n\n   category_name  brand_name  price  shipping  \\\n0            829        5265   10.0         1   \n1             86        3889   52.0         0   \n2           1277        4588   10.0         1   \n\n                                    item_description  \\\n0                                 No description yet   \n1  This keyboard is in great condition and works ...   \n2  Adorable top with a hint of lace and a key hol...   \n\n                                seq_item_description  \\\n0                                       [12, 68, 79]   \n1  [29, 2627, 10, 7, 39, 17, 1, 207, 51, 19, 1113...   \n2  [604, 60, 9, 4, 5347, 11, 192, 1, 4, 886, 1290...   \n\n                              seq_name  \n0  [3852, 8823, 6896, 208, 84, 6, 155]  \n1          [10760, 25565, 16369, 2627]  \n2                   [7634, 10563, 666]  "
          },
          "execution_count": 12,
          "metadata": {},
          "output_type": "execute_result"
        }
      ]
    },
    {
      "metadata": {
        "_cell_guid": "9da5165e-0692-4c1a-a5e7-3fb1c6c1a4fd",
        "_uuid": "335a3d95444a2602598aebbfa6de0a8a3f5a1814",
        "trusted": true
      },
      "cell_type": "code",
      "source": "#SEQUENCES VARIABLES ANALYSIS\nmax_name_seq = np.max([np.max(train.seq_name.apply(lambda x: len(x))), np.max(test.seq_name.apply(lambda x: len(x)))])\nmax_seq_item_description = np.max([np.max(train.seq_item_description.apply(lambda x: len(x)))\n                                   , np.max(test.seq_item_description.apply(lambda x: len(x)))])\nprint(\"max name seq \"+str(max_name_seq))\nprint(\"max item desc seq \"+str(max_seq_item_description))",
      "execution_count": 13,
      "outputs": [
        {
          "name": "stdout",
          "output_type": "stream",
          "text": "max name seq 17\nmax item desc seq 269\n"
        }
      ]
    },
    {
      "metadata": {
        "_cell_guid": "3e87bf13-093e-42a3-bef9-ed10322944df",
        "_uuid": "32ffa5a96deaeb6214469a2594475f7b5a15bc92",
        "trusted": true
      },
      "cell_type": "code",
      "source": "train.seq_name.apply(lambda x: len(x)).hist()",
      "execution_count": 14,
      "outputs": [
        {
          "data": {
            "text/plain": "<matplotlib.axes._subplots.AxesSubplot at 0x7f4154feb390>"
          },
          "execution_count": 14,
          "metadata": {},
          "output_type": "execute_result"
        },
        {
          "data": {
            "image/png": "[encoded data removed]",
            "text/plain": "<matplotlib.figure.Figure at 0x7f419e336cc0>"
          },
          "metadata": {},
          "output_type": "display_data"
        }
      ]
    },
    {
      "metadata": {
        "_cell_guid": "09349ced-fcac-4406-8876-a00fc269218d",
        "_uuid": "bdfde374cbe6f2edc9c453f91ef90c757c8d8f06",
        "trusted": true
      },
      "cell_type": "code",
      "source": "train.seq_item_description.apply(lambda x: len(x)).hist()",
      "execution_count": 15,
      "outputs": [
        {
          "data": {
            "text/plain": "<matplotlib.axes._subplots.AxesSubplot at 0x7f412b079a58>"
          },
          "execution_count": 15,
          "metadata": {},
          "output_type": "execute_result"
        },
        {
          "data": {
            "image/png": "[encoded data removed]",
            "text/plain": "<matplotlib.figure.Figure at 0x7f4158b4de48>"
          },
          "metadata": {},
          "output_type": "display_data"
        }
      ]
    },
    {
      "metadata": {
        "_cell_guid": "e1b9db3a-63de-4bd9-9bad-2db899176053",
        "_uuid": "4cae7d35e8b44e04df93c9f8084ec67ef40a1828",
        "collapsed": true,
        "trusted": true
      },
      "cell_type": "code",
      "source": "#EMBEDDINGS MAX VALUE\n#Base on the histograms, we select the next lengths\nMAX_NAME_SEQ = 10\nMAX_ITEM_DESC_SEQ = 75\nMAX_TEXT = np.max([np.max(train.seq_name.max())\n                   , np.max(test.seq_name.max())\n                  , np.max(train.seq_item_description.max())\n                  , np.max(test.seq_item_description.max())])+2\nMAX_CATEGORY = np.max([train.category_name.max(), test.category_name.max()])+1\nMAX_BRAND = np.max([train.brand_name.max(), test.brand_name.max()])+1\nMAX_CONDITION = np.max([train.item_condition_id.max(), test.item_condition_id.max()])+1",
      "execution_count": 16,
      "outputs": []
    },
    {
      "metadata": {
        "_cell_guid": "cb88f6b3-44ab-4ab4-831a-6a3ebdd0e10d",
        "_uuid": "53474065f08e5d469e4a65bd272c0b316ae26b1e",
        "trusted": true
      },
      "cell_type": "code",
      "source": "#SCALE target variable\ntrain[\"target\"] = np.log(train.price+1)\ntarget_scaler = MinMaxScaler(feature_range=(-1, 1))\ntrain[\"target\"] = target_scaler.fit_transform(train.target.reshape(-1,1))\npd.DataFrame(train.target).hist()",
      "execution_count": 17,
      "outputs": [
        {
          "name": "stderr",
          "output_type": "stream",
          "text": "/opt/conda/lib/python3.6/site-packages/ipykernel_launcher.py:4: FutureWarning: reshape is deprecated and will raise in a subsequent release. Please use .values.reshape(...) instead\n  after removing the cwd from sys.path.\n"
        },
        {
          "data": {
            "text/plain": "array([[<matplotlib.axes._subplots.AxesSubplot object at 0x7f4151ee1ef0>]], dtype=object)"
          },
          "execution_count": 17,
          "metadata": {},
          "output_type": "execute_result"
        },
        {
          "data": {
            "image/png": "[encoded data removed]",
            "text/plain": "<matplotlib.figure.Figure at 0x7f414aad1cf8>"
          },
          "metadata": {},
          "output_type": "display_data"
        }
      ]
    },
    {
      "metadata": {
        "_cell_guid": "abf9cd11-efa2-4a2c-b844-cdf2fc23bbd8",
        "_uuid": "38f7f125582a88eba6410d93306df119e454db82",
        "trusted": true
      },
      "cell_type": "code",
      "source": "#EXTRACT DEVELOPTMENT TEST\ndtrain, dvalid = train_test_split(train, random_state=123, train_size=0.99)\nprint(dtrain.shape)\nprint(dvalid.shape)",
      "execution_count": 18,
      "outputs": [
        {
          "name": "stdout",
          "output_type": "stream",
          "text": "(1467709, 11)\n(14826, 11)\n"
        }
      ]
    },
    {
      "metadata": {
        "_cell_guid": "22f34be1-bd4a-4ad1-a931-62873816e8ee",
        "_uuid": "2f876f24ae0e5a82bdf9b0568f796cce5e2fed2c",
        "collapsed": true,
        "trusted": true
      },
      "cell_type": "code",
      "source": "#KERAS DATA DEFINITION\nfrom keras.preprocessing.sequence import pad_sequences\n\ndef get_keras_data(dataset):\n    X = {\n        'name': pad_sequences(dataset.seq_name, maxlen=MAX_NAME_SEQ)\n        ,'item_desc': pad_sequences(dataset.seq_item_description, maxlen=MAX_ITEM_DESC_SEQ)\n        ,'brand_name': np.array(dataset.brand_name)\n        ,'category_name': np.array(dataset.category_name)\n        ,'item_condition': np.array(dataset.item_condition_id)\n        ,'num_vars': np.array(dataset[[\"shipping\"]])\n    }\n    return X\n\nX_train = get_keras_data(dtrain)\nX_valid = get_keras_data(dvalid)\nX_test = get_keras_data(test)",
      "execution_count": 19,
      "outputs": []
    },
    {
      "metadata": {
        "_cell_guid": "79428c10-e754-4e0e-a8be-ecbe74ef55ff",
        "_uuid": "8af261410908e6c713ca7de01c3c2c549debf779",
        "trusted": true
      },
      "cell_type": "code",
      "source": "#KERAS MODEL DEFINITION\nfrom keras.layers import Input, Dropout, Dense, BatchNormalization, Activation, concatenate, GRU, Embedding, Flatten, BatchNormalization\nfrom keras.models import Model\nfrom keras.callbacks import ModelCheckpoint, Callback, EarlyStopping\nfrom keras import backend as K\n\ndef get_callbacks(filepath, patience=2):\n    es = EarlyStopping('val_loss', patience=patience, mode=\"min\")\n    msave = ModelCheckpoint(filepath, save_best_only=True)\n    return [es, msave]\n\ndef rmsle_cust(y_true, y_pred):\n    first_log = K.log(K.clip(y_pred, K.epsilon(), None) + 1.)\n    second_log = K.log(K.clip(y_true, K.epsilon(), None) + 1.)\n    return K.sqrt(K.mean(K.square(first_log - second_log), axis=-1))\n\ndef get_model():\n    #params\n    dr_r = 0.1\n    \n    #Inputs\n    name = Input(shape=[X_train[\"name\"].shape[1]], name=\"name\")\n    item_desc = Input(shape=[X_train[\"item_desc\"].shape[1]], name=\"item_desc\")\n    brand_name = Input(shape=[1], name=\"brand_name\")\n    category_name = Input(shape=[1], name=\"category_name\")\n    item_condition = Input(shape=[1], name=\"item_condition\")\n    num_vars = Input(shape=[X_train[\"num_vars\"].shape[1]], name=\"num_vars\")\n    \n    #Embeddings layers\n    emb_name = Embedding(MAX_TEXT, 50)(name)\n    emb_item_desc = Embedding(MAX_TEXT, 50)(item_desc)\n    emb_brand_name = Embedding(MAX_BRAND, 10)(brand_name)\n    emb_category_name = Embedding(MAX_CATEGORY, 10)(category_name)\n    emb_item_condition = Embedding(MAX_CONDITION, 5)(item_condition)\n    \n    #rnn layer\n    rnn_layer1 = GRU(16) (emb_item_desc)\n    rnn_layer2 = GRU(8) (emb_name)\n    \n    #main layer\n    main_l = concatenate([\n        Flatten() (emb_brand_name)\n        , Flatten() (emb_category_name)\n        , Flatten() (emb_item_condition)\n        , rnn_layer1\n        , rnn_layer2\n        , num_vars\n    ])\n    main_l = Dropout(dr_r) (Dense(128) (main_l))\n    main_l = Dropout(dr_r) (Dense(64) (main_l))\n    \n    #output\n    output = Dense(1, activation=\"linear\") (main_l)\n    \n    #model\n    model = Model([name, item_desc, brand_name\n                   , category_name, item_condition, num_vars], output)\n    model.compile(loss=\"mse\", optimizer=\"adam\", metrics=[\"mae\", rmsle_cust])\n    \n    return model\n\n    \nmodel = get_model()\nmodel.summary()\n    \n",
      "execution_count": 20,
      "outputs": [
        {
          "name": "stdout",
          "output_type": "stream",
          "text": "__________________________________________________________________________________________________\nLayer (type)                    Output Shape         Param #     Connected to                     \n==================================================================================================\nbrand_name (InputLayer)         (None, 1)            0                                            \n__________________________________________________________________________________________________\ncategory_name (InputLayer)      (None, 1)            0                                            \n__________________________________________________________________________________________________\nitem_condition (InputLayer)     (None, 1)            0                                            \n__________________________________________________________________________________________________\nitem_desc (InputLayer)          (None, 75)           0                                            \n__________________________________________________________________________________________________\nname (InputLayer)               (None, 10)           0                                            \n__________________________________________________________________________________________________\nembedding_3 (Embedding)         (None, 1, 10)        52900       brand_name[0][0]                 \n__________________________________________________________________________________________________\nembedding_4 (Embedding)         (None, 1, 10)        13110       category_name[0][0]              \n__________________________________________________________________________________________________\nembedding_5 (Embedding)         (None, 1, 5)         30          item_condition[0][0]             \n__________________________________________________________________________________________________\nembedding_2 (Embedding)         (None, 75, 50)       12954400    item_desc[0][0]                  \n__________________________________________________________________________________________________\nembedding_1 (Embedding)         (None, 10, 50)       12954400    name[0][0]                       \n__________________________________________________________________________________________________\nflatten_1 (Flatten)             (None, 10)           0           embedding_3[0][0]                \n__________________________________________________________________________________________________\nflatten_2 (Flatten)             (None, 10)           0           embedding_4[0][0]                \n__________________________________________________________________________________________________\nflatten_3 (Flatten)             (None, 5)            0           embedding_5[0][0]                \n__________________________________________________________________________________________________\ngru_1 (GRU)                     (None, 16)           3216        embedding_2[0][0]                \n__________________________________________________________________________________________________\ngru_2 (GRU)                     (None, 8)            1416        embedding_1[0][0]                \n__________________________________________________________________________________________________\nnum_vars (InputLayer)           (None, 1)            0                                            \n__________________________________________________________________________________________________\nconcatenate_1 (Concatenate)     (None, 50)           0           flatten_1[0][0]                  \n                                                                 flatten_2[0][0]                  \n                                                                 flatten_3[0][0]                  \n                                                                 gru_1[0][0]                      \n                                                                 gru_2[0][0]                      \n                                                                 num_vars[0][0]                   \n__________________________________________________________________________________________________\ndense_1 (Dense)                 (None, 128)          6528        concatenate_1[0][0]              \n__________________________________________________________________________________________________\ndropout_1 (Dropout)             (None, 128)          0           dense_1[0][0]                    \n__________________________________________________________________________________________________\ndense_2 (Dense)                 (None, 64)           8256        dropout_1[0][0]                  \n__________________________________________________________________________________________________\ndropout_2 (Dropout)             (None, 64)           0           dense_2[0][0]                    \n__________________________________________________________________________________________________\ndense_3 (Dense)                 (None, 1)            65          dropout_2[0][0]                  \n==================================================================================================\nTotal params: 25,994,321\nTrainable params: 25,994,321\nNon-trainable params: 0\n__________________________________________________________________________________________________\n"
        }
      ]
    },
    {
      "metadata": {
        "_cell_guid": "b19fde2e-e454-48fd-b336-de0b15051fc8",
        "_uuid": "5fa44a0c7fcca9b0f0c15719be8ac38a2ee7cea8",
        "trusted": true
      },
      "cell_type": "code",
      "source": "#FITTING THE MODEL\nBATCH_SIZE = 20000\nepochs = 5\n\nmodel = get_model()\nmodel.fit(X_train, dtrain.target, epochs=epochs, batch_size=BATCH_SIZE\n          , validation_data=(X_valid, dvalid.target)\n          , verbose=1)",
      "execution_count": 21,
      "outputs": [
        {
          "name": "stdout",
          "output_type": "stream",
          "text": "Train on 1467709 samples, validate on 14826 samples\nEpoch 1/5\n1467709/1467709 [==============================] - 548s 373us/step - loss: 0.0264 - mean_absolute_error: 0.1235 - rmsle_cust: 0.0152 - val_loss: 0.0178 - val_mean_absolute_error: 0.1009 - val_rmsle_cust: 0.0134\nEpoch 2/5\n1467709/1467709 [==============================] - 526s 359us/step - loss: 0.0172 - mean_absolute_error: 0.0991 - rmsle_cust: 0.0131 - val_loss: 0.0161 - val_mean_absolute_error: 0.0959 - val_rmsle_cust: 0.0127\nEpoch 3/5\n1467709/1467709 [==============================] - 543s 370us/step - loss: 0.0155 - mean_absolute_error: 0.0942 - rmsle_cust: 0.0125 - val_loss: 0.0155 - val_mean_absolute_error: 0.0944 - val_rmsle_cust: 0.0124\nEpoch 4/5\n1467709/1467709 [==============================] - 547s 373us/step - loss: 0.0146 - mean_absolute_error: 0.0913 - rmsle_cust: 0.0121 - val_loss: 0.0155 - val_mean_absolute_error: 0.0946 - val_rmsle_cust: 0.0124\nEpoch 5/5\n1467709/1467709 [==============================] - 546s 372us/step - loss: 0.0140 - mean_absolute_error: 0.0893 - rmsle_cust: 0.0118 - val_loss: 0.0153 - val_mean_absolute_error: 0.0942 - val_rmsle_cust: 0.0123\n"
        },
        {
          "data": {
            "text/plain": "<keras.callbacks.History at 0x7f4156911668>"
          },
          "execution_count": 21,
          "metadata": {},
          "output_type": "execute_result"
        }
      ]
    },
    {
      "metadata": {
        "_cell_guid": "0bfc00c9-37d7-4ebe-9f9c-2bf0661aef3c",
        "_uuid": "5065d64200d6c4675901e727ddf87afc8136a0c3",
        "trusted": true
      },
      "cell_type": "code",
      "source": "#EVLUEATE THE MODEL ON DEV TEST: What is it doing?\nval_preds = model.predict(X_valid)\nval_preds = target_scaler.inverse_transform(val_preds)\nval_preds = np.exp(val_preds)+1\n\n#mean_absolute_error, mean_squared_log_error\ny_true = np.array(dvalid.price.values)\ny_pred = val_preds[:,0]\nv_rmsle = rmsle(y_true, y_pred)\nprint(\" RMSLE error on dev test: \"+str(v_rmsle))",
      "execution_count": 22,
      "outputs": [
        {
          "name": "stdout",
          "output_type": "stream",
          "text": " RMSLE error on dev test: 0.49033716392002974\n"
        }
      ]
    },
    {
      "metadata": {
        "_cell_guid": "996256b1-8628-4a8a-9e75-2eae09fa7d6e",
        "_uuid": "59772da91cbcb781396138d860d7875a23accaa9",
        "trusted": true
      },
      "cell_type": "code",
      "source": "#CREATE PREDICTIONS\npreds = model.predict(X_test, batch_size=BATCH_SIZE)\npreds = target_scaler.inverse_transform(preds)\npreds = np.exp(preds)-1\n\nsubmission = test[[\"test_id\"]]\nsubmission[\"price\"] = preds",
      "execution_count": 23,
      "outputs": [
        {
          "name": "stderr",
          "output_type": "stream",
          "text": "/opt/conda/lib/python3.6/site-packages/ipykernel_launcher.py:7: SettingWithCopyWarning: \nA value is trying to be set on a copy of a slice from a DataFrame.\nTry using .loc[row_indexer,col_indexer] = value instead\n\nSee the caveats in the documentation: http://pandas.pydata.org/pandas-docs/stable/indexing.html#indexing-view-versus-copy\n  import sys\n"
        }
      ]
    },
    {
      "metadata": {
        "_cell_guid": "8b76a6c9-fa82-4011-82ab-0384b8e2e5b4",
        "_uuid": "270683b6ea8391d536aa86deeb7d0b381a9006ba",
        "trusted": true
      },
      "cell_type": "code",
      "source": "submission.to_csv(\"./NNsubmission_1.csv\", index=False)\nsubmission.price.hist()\n",
      "execution_count": 24,
      "outputs": [
        {
          "data": {
            "text/plain": "<matplotlib.axes._subplots.AxesSubplot at 0x7f4186f41ac8>"
          },
          "execution_count": 24,
          "metadata": {},
          "output_type": "execute_result"
        },
        {
          "data": {
            "image/png": "[encoded data removed]",
            "text/plain": "<matplotlib.figure.Figure at 0x7f4151ee1f60>"
          },
          "metadata": {},
          "output_type": "display_data"
        }
      ]
    },
    {
      "metadata": {
        "_cell_guid": "4f194864-1f59-4b94-871b-3b3ee6f01fd2",
        "_uuid": "d0e07027d44dcda199db405c974a05276a3fb4ac"
      },
      "cell_type": "markdown",
      "source": "\n    "
    }
  ],
  "metadata": {
    "kernelspec": {
      "display_name": "Python 3",
      "language": "python",
      "name": "python3"
    },
    "language_info": {
      "name": "python",
      "version": "3.6.4",
      "mimetype": "text/x-python",
      "codemirror_mode": {
        "name": "ipython",
        "version": 3
      },
      "pygments_lexer": "ipython3",
      "nbconvert_exporter": "python",
      "file_extension": ".py"
    }
  },
  "nbformat": 4,
  "nbformat_minor": 1
}